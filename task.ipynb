{
 "cells": [
  {
   "cell_type": "markdown",
   "metadata": {},
   "source": [
    "<center><h1>Jupyter notebook corpus</h1></center>\n",
    "<center><h3>Агроскин Александр</h3></center>\n",
    "\n",
    "Доступные файлы берем из файла `addresses.txt` в папке `notebook`."
   ]
  },
  {
   "cell_type": "code",
   "execution_count": 1,
   "metadata": {},
   "outputs": [],
   "source": [
    "with open(\"notebooks/addresses.txt\", 'r') as addr:\n",
    "    addresses = addr.read().splitlines()"
   ]
  },
  {
   "cell_type": "markdown",
   "metadata": {},
   "source": [
    "Для скачивания файлов, работает только если система поддерживает команду `wget`. В папке предзагружены пять штук."
   ]
  },
  {
   "cell_type": "code",
   "execution_count": 2,
   "metadata": {},
   "outputs": [],
   "source": [
    "# Не работает на Windows, для загрузки ноутбуков в первый раз\n",
    "# import os\n",
    "\n",
    "# for addr in addresses:\n",
    "#     os.system('wget -P notebooks https://github-notebooks-update1.s3-eu-west-1.amazonaws.com/' + addr)"
   ]
  },
  {
   "cell_type": "markdown",
   "metadata": {},
   "source": [
    "Выбираю ноутбук и читаю его в формате JSON. Получаю словарь."
   ]
  },
  {
   "cell_type": "code",
   "execution_count": 3,
   "metadata": {},
   "outputs": [],
   "source": [
    "import json\n",
    "\n",
    "working_addr = addresses[0] # Выбираю какой notebook анализируем (от 0 до 4)\n",
    "with open(\"notebooks/\" + working_addr, 'r') as nb:\n",
    "    data = json.load(nb)"
   ]
  },
  {
   "cell_type": "markdown",
   "metadata": {},
   "source": [
    "Версия питона находится в `metadata`, версия Юпитера состоит из `nbformat` и `nbformat_minor`."
   ]
  },
  {
   "cell_type": "code",
   "execution_count": 4,
   "metadata": {},
   "outputs": [
    {
     "name": "stdout",
     "output_type": "stream",
     "text": [
      "Language and version:\tpython 3.5.4\n",
      "Jupyter format version:\t4.1\n"
     ]
    }
   ],
   "source": [
    "name = data[\"metadata\"][\"language_info\"][\"name\"]\n",
    "version = data[\"metadata\"][\"language_info\"][\"version\"]\n",
    "print(f\"Language and version:\\t{name} {version}\")\n",
    "nbversion = str(data[\"nbformat\"]) + \".\" + str(data[\"nbformat_minor\"])\n",
    "print(f\"Jupyter format version:\\t{nbversion}\")"
   ]
  },
  {
   "cell_type": "markdown",
   "metadata": {},
   "source": [
    "Использую `pandas` для создания таблицы клеток из словаря. Так как id нету у ноутбуков, созданных на версиях `nbformat`, меньших 5.1.0, у подавляющего большинства объектов датасета нельзя сделать колонку `cell_id`. Как внутренний id я пронумеровываю ячейки ноутбука вручную."
   ]
  },
  {
   "cell_type": "code",
   "execution_count": 5,
   "metadata": {},
   "outputs": [
    {
     "data": {
      "text/html": "<div>\n<style scoped>\n    .dataframe tbody tr th:only-of-type {\n        vertical-align: middle;\n    }\n\n    .dataframe tbody tr th {\n        vertical-align: top;\n    }\n\n    .dataframe thead th {\n        text-align: right;\n    }\n</style>\n<table border=\"1\" class=\"dataframe\">\n  <thead>\n    <tr style=\"text-align: right;\">\n      <th></th>\n      <th>cell_type</th>\n      <th>source</th>\n    </tr>\n    <tr>\n      <th>cell_id</th>\n      <th></th>\n      <th></th>\n    </tr>\n  </thead>\n  <tbody>\n    <tr>\n      <th>0</th>\n      <td>markdown</td>\n      <td>[# CNTK 207: Sampled Softmax\\n, \\n, For classi...</td>\n    </tr>\n    <tr>\n      <th>1</th>\n      <td>markdown</td>\n      <td>[**Select the notebook runtime environment dev...</td>\n    </tr>\n    <tr>\n      <th>2</th>\n      <td>code</td>\n      <td>[from __future__ import print_function # Use a...</td>\n    </tr>\n    <tr>\n      <th>3</th>\n      <td>markdown</td>\n      <td>[## Basic concept\\n, \\n, The softmax function ...</td>\n    </tr>\n    <tr>\n      <th>4</th>\n      <td>code</td>\n      <td>[# Creates a subgraph computing cross-entropy ...</td>\n    </tr>\n  </tbody>\n</table>\n</div>",
      "text/plain": "        cell_type                                             source\ncell_id                                                             \n0        markdown  [# CNTK 207: Sampled Softmax\\n, \\n, For classi...\n1        markdown  [**Select the notebook runtime environment dev...\n2            code  [from __future__ import print_function # Use a...\n3        markdown  [## Basic concept\\n, \\n, The softmax function ...\n4            code  [# Creates a subgraph computing cross-entropy ..."
     },
     "execution_count": 5,
     "metadata": {},
     "output_type": "execute_result"
    }
   ],
   "source": [
    "import pandas as pd\n",
    "\n",
    "data_table = pd.DataFrame(data[\"cells\"])\n",
    "data_table.index.name = \"cell_id\"\n",
    "cell_table = data_table.drop(['metadata', 'execution_count', 'outputs'], axis=1)\n",
    "cell_table.head()"
   ]
  },
  {
   "cell_type": "markdown",
   "metadata": {},
   "source": [
    "Сделаю отдельную таблицу для ячеек с кодом, где по `cell_id` ячейки можно получить количество вызовов функций в ней:"
   ]
  },
  {
   "cell_type": "code",
   "execution_count": 6,
   "metadata": {},
   "outputs": [
    {
     "data": {
      "text/html": "<div>\n<style scoped>\n    .dataframe tbody tr th:only-of-type {\n        vertical-align: middle;\n    }\n\n    .dataframe tbody tr th {\n        vertical-align: top;\n    }\n\n    .dataframe thead th {\n        text-align: right;\n    }\n</style>\n<table border=\"1\" class=\"dataframe\">\n  <thead>\n    <tr style=\"text-align: right;\">\n      <th></th>\n      <th>source</th>\n      <th>execution_count</th>\n    </tr>\n    <tr>\n      <th>cell_id</th>\n      <th></th>\n      <th></th>\n    </tr>\n  </thead>\n  <tbody>\n    <tr>\n      <th>2</th>\n      <td>[from __future__ import print_function # Use a...</td>\n      <td>1.0</td>\n    </tr>\n    <tr>\n      <th>4</th>\n      <td>[# Creates a subgraph computing cross-entropy ...</td>\n      <td>2.0</td>\n    </tr>\n    <tr>\n      <th>6</th>\n      <td>[# Creates subgraph computing cross-entropy wi...</td>\n      <td>3.0</td>\n    </tr>\n    <tr>\n      <th>8</th>\n      <td>[import numpy as np\\n, from math import log, e...</td>\n      <td>4.0</td>\n    </tr>\n    <tr>\n      <th>10</th>\n      <td>[# We want to lot the data \\n, import matplotl...</td>\n      <td>5.0</td>\n    </tr>\n  </tbody>\n</table>\n</div>",
      "text/plain": "                                                    source  execution_count\ncell_id                                                                    \n2        [from __future__ import print_function # Use a...              1.0\n4        [# Creates a subgraph computing cross-entropy ...              2.0\n6        [# Creates subgraph computing cross-entropy wi...              3.0\n8        [import numpy as np\\n, from math import log, e...              4.0\n10       [# We want to lot the data \\n, import matplotl...              5.0"
     },
     "execution_count": 6,
     "metadata": {},
     "output_type": "execute_result"
    }
   ],
   "source": [
    "code_table = data_table.drop(['metadata', 'outputs'], axis=1)\n",
    "code_table = code_table[code_table.cell_type == \"code\"].drop('cell_type', axis=1)\n",
    "code_table.head()"
   ]
  },
  {
   "cell_type": "markdown",
   "metadata": {},
   "source": [
    "Для определения языка текста воспользуюсь библиотекой [Compact Language Detector v3](https://github.com/google/cld3) с [байндингами для питона](https://pypi.org/project/gcld3/). Согласно [этой статье](https://arxiv.org/pdf/1801.07779.pdf), CLD2 (предшественник CLD3) дает очень хорошее качество определения, и при этом работает на порядок быстрее похожих библиотек.\n",
    "\n",
    "Создам таблицу, в которой по `cell_id` маркдаун ячейки можно узнать язык текста:"
   ]
  },
  {
   "cell_type": "code",
   "execution_count": 7,
   "metadata": {},
   "outputs": [],
   "source": [
    "# Для установки библиотеки в первый раз\n",
    "# !pip install gcld3\n",
    "# Для установки словаря-списка языков (надеюсь, что я не нарушил лицензию)\n",
    "# !wget https://raw.githubusercontent.com/unicode-cldr/cldr-localenames-modern/master/main/en/languages.json"
   ]
  },
  {
   "cell_type": "code",
   "execution_count": 8,
   "metadata": {},
   "outputs": [
    {
     "data": {
      "text/html": "<div>\n<style scoped>\n    .dataframe tbody tr th:only-of-type {\n        vertical-align: middle;\n    }\n\n    .dataframe tbody tr th {\n        vertical-align: top;\n    }\n\n    .dataframe thead th {\n        text-align: right;\n    }\n</style>\n<table border=\"1\" class=\"dataframe\">\n  <thead>\n    <tr style=\"text-align: right;\">\n      <th></th>\n      <th>source</th>\n      <th>language</th>\n      <th>is_reliable</th>\n    </tr>\n    <tr>\n      <th>cell_id</th>\n      <th></th>\n      <th></th>\n      <th></th>\n    </tr>\n  </thead>\n  <tbody>\n    <tr>\n      <th>0</th>\n      <td>[# CNTK 207: Sampled Softmax\\n, \\n, For classi...</td>\n      <td>English</td>\n      <td>True</td>\n    </tr>\n    <tr>\n      <th>1</th>\n      <td>[**Select the notebook runtime environment dev...</td>\n      <td>English</td>\n      <td>True</td>\n    </tr>\n    <tr>\n      <th>3</th>\n      <td>[## Basic concept\\n, \\n, The softmax function ...</td>\n      <td>English</td>\n      <td>True</td>\n    </tr>\n    <tr>\n      <th>5</th>\n      <td>[To give a better idea of what the inputs and ...</td>\n      <td>English</td>\n      <td>True</td>\n    </tr>\n    <tr>\n      <th>7</th>\n      <td>[As you can see the main differences to the ap...</td>\n      <td>English</td>\n      <td>True</td>\n    </tr>\n    <tr>\n      <th>9</th>\n      <td>[In the above code we use two different method...</td>\n      <td>English</td>\n      <td>True</td>\n    </tr>\n    <tr>\n      <th>11</th>\n      <td>[In the example above we compare uniform sampl...</td>\n      <td>English</td>\n      <td>True</td>\n    </tr>\n    <tr>\n      <th>12</th>\n      <td>[## What speedups to expect?\\n, \\n, The speed ...</td>\n      <td>English</td>\n      <td>True</td>\n    </tr>\n  </tbody>\n</table>\n</div>",
      "text/plain": "                                                    source language  \\\ncell_id                                                               \n0        [# CNTK 207: Sampled Softmax\\n, \\n, For classi...  English   \n1        [**Select the notebook runtime environment dev...  English   \n3        [## Basic concept\\n, \\n, The softmax function ...  English   \n5        [To give a better idea of what the inputs and ...  English   \n7        [As you can see the main differences to the ap...  English   \n9        [In the above code we use two different method...  English   \n11       [In the example above we compare uniform sampl...  English   \n12       [## What speedups to expect?\\n, \\n, The speed ...  English   \n\n         is_reliable  \ncell_id               \n0               True  \n1               True  \n3               True  \n5               True  \n7               True  \n9               True  \n11              True  \n12              True  "
     },
     "execution_count": 8,
     "metadata": {},
     "output_type": "execute_result"
    }
   ],
   "source": [
    "import gcld3, re\n",
    "\n",
    "\n",
    "def detect_lang(strarr, identifier, lang_map):\n",
    "    # Удаляю из строки знаки препинания, может помочь с определением языка \n",
    "    string = ' '.join([re.sub(r'[^\\w\\s]', ' ', s) for s in strarr]).replace('\\n', '').lower()\n",
    "    res = identifier.FindLanguage(string)\n",
    "    return lang_map[res.language], res.is_reliable\n",
    "\n",
    "lang_table = data_table.drop(['metadata', 'outputs'], axis=1)\n",
    "lang_table = lang_table[lang_table.cell_type == \"markdown\"].drop(['cell_type', 'execution_count'], axis=1)\n",
    "with open(\"languages.json\", 'r') as lang: # Загружаю словарь для полных имен\n",
    "    lang_map = json.load(lang)['main']['en']['localeDisplayNames']['languages']\n",
    "identifier = gcld3.NNetLanguageIdentifier(0, 2000)  # Первых 2000 байт должно хватить для определения языка\n",
    "lang_table[['language', 'is_reliable']] = lang_table['source'].apply(lambda src: detect_lang(src, identifier, lang_map)).tolist()\n",
    "lang_table.head(10)"
   ]
  },
  {
   "cell_type": "markdown",
   "metadata": {},
   "source": [
    "Получили таблицу, где в колонке `language` находится язык текста в ячейке, а в колонке `is_reliable` информация о том, уверена модель в своем ответе или нет.\n",
    "\n",
    "Сохраню все таблицы в отдельную папку:"
   ]
  },
  {
   "cell_type": "code",
   "execution_count": 9,
   "metadata": {},
   "outputs": [],
   "source": [
    "from pathlib import Path\n",
    "\n",
    "Path('tables/' + working_addr[:-6]).mkdir(parents=True, exist_ok=True)\n",
    "cell_table.to_csv('tables/' + working_addr[:-6] + '/cells.csv')\n",
    "code_table.to_csv('tables/' + working_addr[:-6] + '/code.csv')\n",
    "lang_table.to_csv('tables/' + working_addr[:-6] + '/markdown.csv')"
   ]
  }
 ],
 "metadata": {
  "kernelspec": {
   "display_name": "datasci",
   "language": "python",
   "name": "datasci"
  },
  "language_info": {
   "codemirror_mode": {
    "name": "ipython",
    "version": 3
   },
   "file_extension": ".py",
   "mimetype": "text/x-python",
   "name": "python",
   "nbconvert_exporter": "python",
   "pygments_lexer": "ipython3",
   "version": "3.9.2"
  },
  "orig_nbformat": 2
 },
 "nbformat": 4,
 "nbformat_minor": 2
}